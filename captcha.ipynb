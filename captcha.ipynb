{
 "cells": [
  {
   "cell_type": "code",
   "execution_count": 60,
   "metadata": {
    "collapsed": true
   },
   "outputs": [],
   "source": [
    "from captcha.image import ImageCaptcha\n",
    "from matplotlib import pyplot as plt\n",
    "import glob\n",
    "import numpy as np\n",
    "import random\n",
    "import os\n",
    "import string\n",
    "from scipy.misc import imread\n",
    "%matplotlib inline\n"
   ]
  },
  {
   "cell_type": "code",
   "execution_count": 11,
   "metadata": {
    "collapsed": false
   },
   "outputs": [
    {
     "data": {
      "text/plain": [
       "(<PIL.ImageFont.FreeTypeFont at 0x261a67d9c88>,\n",
       " <PIL.ImageFont.FreeTypeFont at 0x261a67d9c18>,\n",
       " <PIL.ImageFont.FreeTypeFont at 0x261a67c04a8>,\n",
       " <PIL.ImageFont.FreeTypeFont at 0x261a67d2240>,\n",
       " <PIL.ImageFont.FreeTypeFont at 0x261a67d25c0>,\n",
       " <PIL.ImageFont.FreeTypeFont at 0x261a67d4cf8>)"
      ]
     },
     "execution_count": 11,
     "metadata": {},
     "output_type": "execute_result"
    }
   ],
   "source": [
    "image.truefonts"
   ]
  },
  {
   "cell_type": "code",
   "execution_count": 127,
   "metadata": {
    "collapsed": true
   },
   "outputs": [],
   "source": [
    "#image = ImageCaptcha(fonts=['./font/AntykwaBold.ttf', './font/Candice.ttf', './font/VeraMono.ttf', './font/verdana.ttf'])\n",
    "image = ImageCaptcha(fonts=['./font/AntykwaBold.ttf'])\n"
   ]
  },
  {
   "cell_type": "code",
   "execution_count": 95,
   "metadata": {
    "collapsed": false
   },
   "outputs": [
    {
     "name": "stdout",
     "output_type": "stream",
     "text": [
      "generating captcha 0\n",
      "generating captcha 100\n",
      "generating captcha 200\n",
      "generating captcha 300\n",
      "generating captcha 400\n",
      "generating captcha 500\n",
      "generating captcha 600\n",
      "generating captcha 700\n",
      "generating captcha 800\n",
      "generating captcha 900\n"
     ]
    }
   ],
   "source": [
    "base_path = './captchas/'\n",
    "char_map = string.ascii_letters+string.digits\n",
    "if not os.path.exists(base_path):\n",
    "    os.mkdir(base_path)\n",
    "for i in range(1000):\n",
    "    text = ''.join(random.sample(char_map, 4))\n",
    "    filename = '%04d' % i + '_' + text + '.jpg'\n",
    "    image.write(text, base_path+filename)\n",
    "    if i % 100 == 0:\n",
    "        print(\"generating captcha \" , i)"
   ]
  },
  {
   "cell_type": "code",
   "execution_count": 99,
   "metadata": {
    "collapsed": false
   },
   "outputs": [],
   "source": [
    "im = imread('captchas/0201_wpDb.jpg')"
   ]
  },
  {
   "cell_type": "code",
   "execution_count": 129,
   "metadata": {
    "collapsed": false
   },
   "outputs": [
    {
     "data": {
      "image/png": "[encoded data removed]",
      "text/plain": [
       "<PIL.Image.Image image mode=RGB size=160x60 at 0x261A6834390>"
      ]
     },
     "execution_count": 129,
     "metadata": {},
     "output_type": "execute_result"
    }
   ],
   "source": [
    "image.generate_image('piY8')"
   ]
  },
  {
   "cell_type": "code",
   "execution_count": 115,
   "metadata": {
    "collapsed": false
   },
   "outputs": [
    {
     "data": {
      "text/plain": [
       "'0LaE'"
      ]
     },
     "execution_count": 115,
     "metadata": {},
     "output_type": "execute_result"
    }
   ],
   "source": [
    "''.join(random.choice(string.ascii_letters + string.digits) for _ in range(4))"
   ]
  },
  {
   "cell_type": "code",
   "execution_count": 121,
   "metadata": {
    "collapsed": false
   },
   "outputs": [
    {
     "data": {
      "text/plain": [
       "['p', 's', 'V', 'a']"
      ]
     },
     "execution_count": 121,
     "metadata": {},
     "output_type": "execute_result"
    }
   ],
   "source": [
    "random.sample(char_map, 4)"
   ]
  },
  {
   "cell_type": "code",
   "execution_count": 120,
   "metadata": {
    "collapsed": false
   },
   "outputs": [],
   "source": [
    "char_map = string.ascii_letters+string.digits"
   ]
  },
  {
   "cell_type": "code",
   "execution_count": 126,
   "metadata": {
    "collapsed": false
   },
   "outputs": [
    {
     "data": {
      "text/plain": [
       "'8'"
      ]
     },
     "execution_count": 126,
     "metadata": {},
     "output_type": "execute_result"
    }
   ],
   "source": [
    "char_map[60]"
   ]
  },
  {
   "cell_type": "code",
   "execution_count": null,
   "metadata": {
    "collapsed": true
   },
   "outputs": [],
   "source": []
  }
 ],
 "metadata": {
  "anaconda-cloud": {},
  "kernelspec": {
   "display_name": "Python [default]",
   "language": "python",
   "name": "python3"
  },
  "language_info": {
   "codemirror_mode": {
    "name": "ipython",
    "version": 3
   },
   "file_extension": ".py",
   "mimetype": "text/x-python",
   "name": "python",
   "nbconvert_exporter": "python",
   "pygments_lexer": "ipython3",
   "version": "3.5.2"
  }
 },
 "nbformat": 4,
 "nbformat_minor": 1
}
