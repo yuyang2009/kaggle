{
 "cells": [
  {
   "cell_type": "code",
   "execution_count": 22,
   "metadata": {
    "collapsed": true
   },
   "outputs": [],
   "source": [
    "from captcha.image import ImageCaptcha\n",
    "from matplotlib import pyplot as plt\n",
    "import glob\n",
    "import numpy as np\n",
    "import random\n",
    "import os\n",
    "import string\n",
    "from PIL import Image \n",
    "%matplotlib inline\n"
   ]
  },
  {
   "cell_type": "code",
   "execution_count": 6,
   "metadata": {
    "collapsed": false
   },
   "outputs": [],
   "source": [
    "#image = ImageCaptcha(fonts=['./font/AntykwaBold.ttf', './font/Candice.ttf', './font/VeraMono.ttf', './font/verdana.ttf'])\n",
    "image = ImageCaptcha(fonts=['./font/AntykwaBold.ttf'])"
   ]
  },
  {
   "cell_type": "code",
   "execution_count": 220,
   "metadata": {
    "collapsed": false
   },
   "outputs": [
    {
     "name": "stdout",
     "output_type": "stream",
     "text": [
      "the size of image  0 (60, 170, 3)\n",
      "the size of image  1 (60, 162, 3)\n",
      "the size of image  2 (60, 160, 3)\n",
      "the size of image  3 (60, 160, 3)\n",
      "the size of image  4 (60, 160, 3)\n",
      "the size of image  5 (60, 160, 3)\n",
      "the size of image  6 (60, 190, 3)\n",
      "the size of image  7 (60, 187, 3)\n",
      "the size of image  8 (60, 160, 3)\n",
      "the size of image  9 (60, 160, 3)\n"
     ]
    }
   ],
   "source": [
    "char_map = string.ascii_uppercase+string.digits\n",
    "for i in range(10):\n",
    "    text = ''.join(random.sample(char_map, 4))\n",
    "    print(\"the size of image \", i,np.array(image.generate_image(text)).shape)"
   ]
  },
  {
   "cell_type": "code",
   "execution_count": null,
   "metadata": {
    "collapsed": false
   },
   "outputs": [],
   "source": []
  },
  {
   "cell_type": "code",
   "execution_count": 280,
   "metadata": {
    "collapsed": false
   },
   "outputs": [
    {
     "name": "stdout",
     "output_type": "stream",
     "text": [
      "generating captcha  0\n",
      "generating captcha  1000\n",
      "generating captcha  2000\n",
      "generating captcha  3000\n",
      "generating captcha  4000\n",
      "generating captcha  5000\n",
      "generating captcha  6000\n",
      "generating captcha  7000\n",
      "generating captcha  8000\n",
      "generating captcha  9000\n"
     ]
    }
   ],
   "source": [
    "# %%timeit\n",
    "# X = []\n",
    "# for i in range(1000):\n",
    "#     text = ''.join(random.sample(char_map, 4))\n",
    "#     img = np.array(image.generate_image(text).resize((100, 40)))\n",
    "#     img_gray = np.mean(img, -1)\n",
    "#     if not isinstance(X, np.ndarray):\n",
    "#         X = img_gray[..., np.newaxis]\n",
    "#     else:\n",
    "#         X = np.concatenate((X, img_gray[..., np.newaxis]), axis=-1)\n",
    "#     #灰度值求解\n",
    "#     #np.sum(np.array([0.2989, 0.5870, 0.1140]) * img, axis=2)\n",
    "#     if i % 100 == 0:\n",
    "#         print(\"generating captcha \" , i)\n",
    "\n",
    "num_char = 4\n",
    "num_images = 10000\n",
    "width_images = 100\n",
    "height_images = 40\n",
    "num_charmap = 36\n",
    "X = np.empty((height_images, width_images , num_images))\n",
    "y = np.empty((num_charmap*num_char, num_images))\n",
    "char_map = string.ascii_uppercase + string.digits\n",
    "\n",
    "for i in range(num_images):\n",
    "    text = ''.join(random.sample(char_map, num_char))\n",
    "    img = np.array(image.generate_image(text).resize((width_images, height_images)))\n",
    "    img_gray = np.mean(img, -1)\n",
    "    X[:, :, i] = img_gray\n",
    "    \n",
    "    y_index = [ char_map.find(text[_i])+_i*num_charmap for _i in range(num_char)]\n",
    "    y[y_index, i] = 1\n",
    "\n",
    "    #灰度值求解\n",
    "    #np.sum(np.array([0.2989, 0.5870, 0.1140]) * img, axis=2)\n",
    "    if i % (num_images/10) == 0:\n",
    "        print(\"generating captcha \" , i)"
   ]
  },
  {
   "cell_type": "code",
   "execution_count": 293,
   "metadata": {
    "collapsed": false
   },
   "outputs": [
    {
     "data": {
      "text/plain": [
       "array([[ 0.,  0.,  0., ...,  0.,  0.,  0.],\n",
       "       [ 0.,  0.,  0., ...,  0.,  0.,  0.],\n",
       "       [ 0.,  0.,  0., ...,  0.,  0.,  0.],\n",
       "       ..., \n",
       "       [ 0.,  0.,  0., ...,  0.,  0.,  0.],\n",
       "       [ 0.,  0.,  0., ...,  0.,  0.,  0.],\n",
       "       [ 0.,  0.,  0., ...,  0.,  0.,  0.]])"
      ]
     },
     "execution_count": 293,
     "metadata": {},
     "output_type": "execute_result"
    }
   ],
   "source": [
    "y"
   ]
  },
  {
   "cell_type": "code",
   "execution_count": null,
   "metadata": {
    "collapsed": false
   },
   "outputs": [],
   "source": []
  },
  {
   "cell_type": "code",
   "execution_count": 279,
   "metadata": {
    "collapsed": false
   },
   "outputs": [
    {
     "data": {
      "text/plain": [
       "35"
      ]
     },
     "execution_count": 279,
     "metadata": {},
     "output_type": "execute_result"
    }
   ],
   "source": [
    "char_map.find('9')"
   ]
  },
  {
   "cell_type": "code",
   "execution_count": 81,
   "metadata": {
    "collapsed": false
   },
   "outputs": [
    {
     "data": {
      "text/plain": [
       "(1, 60, 160, 3)"
      ]
     },
     "execution_count": 81,
     "metadata": {},
     "output_type": "execute_result"
    }
   ],
   "source": [
    "np.array(image.generate_image(text), ndmin=4).shape"
   ]
  },
  {
   "cell_type": "code",
   "execution_count": 94,
   "metadata": {
    "collapsed": false
   },
   "outputs": [
    {
     "data": {
      "text/plain": [
       "(60, 160, 3)"
      ]
     },
     "execution_count": 94,
     "metadata": {},
     "output_type": "execute_result"
    }
   ],
   "source": [
    "text = ''.join(random.sample(char_map, 4))\n",
    "np.array(image.generate_image(text)).shape"
   ]
  },
  {
   "cell_type": "code",
   "execution_count": 270,
   "metadata": {
    "collapsed": false
   },
   "outputs": [
    {
     "data": {
      "text/plain": [
       "(140, 10000)"
      ]
     },
     "execution_count": 270,
     "metadata": {},
     "output_type": "execute_result"
    }
   ],
   "source": [
    "y.shape"
   ]
  },
  {
   "cell_type": "code",
   "execution_count": 168,
   "metadata": {
    "collapsed": false
   },
   "outputs": [],
   "source": [
    "img = np.mean(img, -1)"
   ]
  },
  {
   "cell_type": "code",
   "execution_count": 166,
   "metadata": {
    "collapsed": false
   },
   "outputs": [
    {
     "data": {
      "text/plain": [
       "<matplotlib.image.AxesImage at 0x111334860>"
      ]
     },
     "execution_count": 166,
     "metadata": {},
     "output_type": "execute_result"
    },
    {
     "data": {
      "image/png": "[encoded data removed]",
      "text/plain": [
       "<matplotlib.figure.Figure at 0x10ee9c4a8>"
      ]
     },
     "metadata": {},
     "output_type": "display_data"
    }
   ],
   "source": [
    "# %%timeit\n",
    "# np.sum(np.array([0.2989, 0.5870, 0.1140]) * img, axis=2)\n",
    "img = np.array(image.generate_image(text).resize((100, 40)))\n",
    "plt.imshow(np.sum(np.array([0.2989, 0.5870, 0.1140]) * img, axis=2), cmap='gray')\n"
   ]
  },
  {
   "cell_type": "code",
   "execution_count": 194,
   "metadata": {
    "collapsed": false
   },
   "outputs": [],
   "source": [
    "img2 = np.concatenate((img.reshape((40, 100, 1)), img.reshape((40, 100, 1))), axis =2)"
   ]
  },
  {
   "cell_type": "code",
   "execution_count": 196,
   "metadata": {
    "collapsed": false
   },
   "outputs": [
    {
     "data": {
      "text/plain": [
       "(40, 100, 3)"
      ]
     },
     "execution_count": 196,
     "metadata": {},
     "output_type": "execute_result"
    }
   ],
   "source": [
    "np.concatenate((img2, img.reshape((40, 100, 1))), axis =2).shape"
   ]
  },
  {
   "cell_type": "code",
   "execution_count": 205,
   "metadata": {
    "collapsed": false
   },
   "outputs": [],
   "source": [
    "X = np.empty((40, 100, 1))"
   ]
  },
  {
   "cell_type": "code",
   "execution_count": 207,
   "metadata": {
    "collapsed": false
   },
   "outputs": [
    {
     "data": {
      "text/plain": [
       "(40, 100, 3)"
      ]
     },
     "execution_count": 207,
     "metadata": {},
     "output_type": "execute_result"
    }
   ],
   "source": [
    "np.concatenate((img2, X), axis =2).shape"
   ]
  },
  {
   "cell_type": "code",
   "execution_count": null,
   "metadata": {
    "collapsed": true
   },
   "outputs": [],
   "source": []
  }
 ],
 "metadata": {
  "anaconda-cloud": {},
  "kernelspec": {
   "display_name": "Python [Root]",
   "language": "python",
   "name": "Python [Root]"
  },
  "language_info": {
   "codemirror_mode": {
    "name": "ipython",
    "version": 3
   },
   "file_extension": ".py",
   "mimetype": "text/x-python",
   "name": "python",
   "nbconvert_exporter": "python",
   "pygments_lexer": "ipython3",
   "version": "3.5.2"
  }
 },
 "nbformat": 4,
 "nbformat_minor": 1
}
