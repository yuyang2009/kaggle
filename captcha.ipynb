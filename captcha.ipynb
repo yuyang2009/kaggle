{
 "cells": [
  {
   "cell_type": "code",
   "execution_count": 9,
   "metadata": {
    "collapsed": true
   },
   "outputs": [],
   "source": [
    "from captcha.image import ImageCaptcha\n",
    "from matplotlib import pyplot as plt\n",
    "import glob\n",
    "import numpy as np\n",
    "import random\n",
    "import os\n",
    "import string\n",
    "from PIL import Image \n",
    "import time\n",
    "%matplotlib inline\n"
   ]
  },
  {
   "cell_type": "code",
   "execution_count": 6,
   "metadata": {
    "collapsed": false
   },
   "outputs": [],
   "source": [
    "#image = ImageCaptcha(fonts=['./font/AntykwaBold.ttf', './font/Candice.ttf', './font/VeraMono.ttf', './font/verdana.ttf'])\n"
   ]
  },
  {
   "cell_type": "code",
   "execution_count": null,
   "metadata": {
    "collapsed": false
   },
   "outputs": [],
   "source": []
  },
  {
   "cell_type": "code",
   "execution_count": null,
   "metadata": {
    "collapsed": false
   },
   "outputs": [],
   "source": []
  },
  {
   "cell_type": "code",
   "execution_count": 2,
   "metadata": {
    "collapsed": false
   },
   "outputs": [
    {
     "name": "stdout",
     "output_type": "stream",
     "text": [
      "generate train dataset: \n",
      " ----------------------------------------\n",
      "generating captcha  0\n",
      "generating captcha  2000\n",
      "generating captcha  4000\n",
      "generating captcha  6000\n",
      "generating captcha  8000\n",
      "generate test dataset: \n",
      " ----------------------------------------\n",
      "generating captcha  0\n",
      "generating captcha  100\n",
      "generating captcha  200\n",
      "generating captcha  300\n",
      "generating captcha  400\n"
     ]
    }
   ],
   "source": [
    "# %%timeit\n",
    "# X = []\n",
    "# for i in range(1000):\n",
    "#     text = ''.join(random.sample(char_map, 4))\n",
    "#     img = np.array(image.generate_image(text).resize((100, 40)))\n",
    "#     img_gray = np.mean(img, -1)\n",
    "#     if not isinstance(X, np.ndarray):\n",
    "#         X = img_gray[..., np.newaxis]\n",
    "#     else:\n",
    "#         X = np.concatenate((X, img_gray[..., np.newaxis]), axis=-1)\n",
    "#     #灰度值求解\n",
    "#     #np.sum(np.array([0.2989, 0.5870, 0.1140]) * img, axis=2)\n",
    "#     if i % 100 == 0:\n",
    "#         print(\"generating captcha \" , i)\n",
    "\n",
    "num_char = 4\n",
    "num_images = 10000\n",
    "width_images = 100\n",
    "height_images = 40\n",
    "num_charmap = 36\n",
    "num_channel = 1\n",
    "char_map = string.ascii_uppercase + string.digits\n",
    "\n",
    "num_images_test = 500\n",
    "\n",
    "\n",
    "image_generator = ImageCaptcha(fonts=['./font/AntykwaBold.ttf'])\n",
    "\n",
    "def dataset_generator(num_images):\n",
    "    X = np.empty((num_images, height_images, width_images))\n",
    "    y = np.empty((num_images, num_charmap*num_char))\n",
    "    for i in range(num_images):\n",
    "        text = ''.join(random.sample(char_map, num_char))\n",
    "        img = np.array(image_generator.generate_image(text).resize((width_images, height_images)))\n",
    "        img_gray = np.mean(img, -1)\n",
    "        img_scale = np.multiply(img_gray, 1/255.0)\n",
    "        X[i, :, :] = img_scale\n",
    "        y_index = [ char_map.find(text[_i])+_i*num_charmap for _i in range(num_char)]\n",
    "        y[i, y_index] = 1\n",
    "\n",
    "        #灰度值求解\n",
    "        #np.sum(np.array([0.2989, 0.5870, 0.1140]) * img, axis=2)\n",
    "        if i % (num_images/5) == 0:\n",
    "            print(\"generating captcha \" , i)\n",
    "    return X, y\n",
    "\n",
    "print(\"generate train dataset: \\n\", '-'*40)\n",
    "X_train, y_train = dataset_generator(num_images)\n",
    "print(\"generate test dataset: \\n\", '-'*40)\n",
    "X_test, y_test = dataset_generator(num_images_test)\n",
    "        \n",
    "def generator(X, y, batch_size=100):\n",
    "    index_in_epoch = 0\n",
    "    while True:\n",
    "        start = index_in_epoch\n",
    "        index_in_epoch += batch_size\n",
    "        if index_in_epoch > num_images:\n",
    "            perm = np.arange(num_images)\n",
    "            np.random.shuffle(perm)\n",
    "            X = X[perm]\n",
    "            y = y[perm]\n",
    "            start = 0\n",
    "            index_in_epoch = batch_size\n",
    "            assert batch_size <= num_images\n",
    "        end = index_in_epoch\n",
    "        yield X[start:end], y[start:end]     \n"
   ]
  },
  {
   "cell_type": "code",
   "execution_count": 5,
   "metadata": {
    "collapsed": false
   },
   "outputs": [],
   "source": [
    "import tensorflow as tf\n",
    "sess = tf.InteractiveSession()\n",
    "x = tf.placeholder(tf.float32, shape=[None, height_images, width_images])\n",
    "y_ = tf.placeholder(tf.float32, shape=[None, num_char*num_charmap])"
   ]
  },
  {
   "cell_type": "code",
   "execution_count": 12,
   "metadata": {
    "collapsed": false
   },
   "outputs": [
    {
     "name": "stdout",
     "output_type": "stream",
     "text": [
      "Thu Jan  5 15:49:23 2017 : train cnn begin, amount 10000 steps\n"
     ]
    },
    {
     "ename": "KeyboardInterrupt",
     "evalue": "",
     "output_type": "error",
     "traceback": [
      "\u001b[0;31m\u001b[0m",
      "\u001b[0;31mKeyboardInterrupt\u001b[0mTraceback (most recent call last)",
      "\u001b[0;32m<ipython-input-12-6a0a741f8292>\u001b[0m in \u001b[0;36m<module>\u001b[0;34m()\u001b[0m\n\u001b[1;32m     66\u001b[0m \u001b[0mprint\u001b[0m\u001b[0;34m(\u001b[0m\u001b[0mtime\u001b[0m\u001b[0;34m.\u001b[0m\u001b[0mctime\u001b[0m\u001b[0;34m(\u001b[0m\u001b[0;34m)\u001b[0m \u001b[0;34m,\u001b[0m\u001b[0;34m\": train cnn begin, amount %d steps\"\u001b[0m\u001b[0;34m%\u001b[0m\u001b[0mnum_loop\u001b[0m\u001b[0;34m)\u001b[0m\u001b[0;34m\u001b[0m\u001b[0m\n\u001b[1;32m     67\u001b[0m \u001b[0;32mfor\u001b[0m \u001b[0mi\u001b[0m \u001b[0;32min\u001b[0m \u001b[0mrange\u001b[0m\u001b[0;34m(\u001b[0m\u001b[0mnum_loop\u001b[0m\u001b[0;34m)\u001b[0m\u001b[0;34m:\u001b[0m\u001b[0;34m\u001b[0m\u001b[0m\n\u001b[0;32m---> 68\u001b[0;31m     \u001b[0mX_batch\u001b[0m\u001b[0;34m,\u001b[0m \u001b[0my_batch\u001b[0m \u001b[0;34m=\u001b[0m \u001b[0mnext\u001b[0m\u001b[0;34m(\u001b[0m\u001b[0mtrainset_ge\u001b[0m\u001b[0;34m)\u001b[0m\u001b[0;34m\u001b[0m\u001b[0m\n\u001b[0m\u001b[1;32m     69\u001b[0m     \u001b[0;32mif\u001b[0m \u001b[0;34m(\u001b[0m\u001b[0mi\u001b[0m\u001b[0;34m+\u001b[0m\u001b[0;36m1\u001b[0m\u001b[0;34m)\u001b[0m\u001b[0;34m/\u001b[0m\u001b[0;34m(\u001b[0m\u001b[0mnum_loop\u001b[0m\u001b[0;34m/\u001b[0m\u001b[0;36m10\u001b[0m\u001b[0;34m)\u001b[0m \u001b[0;34m==\u001b[0m \u001b[0;36m0\u001b[0m\u001b[0;34m:\u001b[0m\u001b[0;34m\u001b[0m\u001b[0m\n\u001b[1;32m     70\u001b[0m         train_accuracy = accuracy.eval(feed_dict={\n",
      "\u001b[0;32m<ipython-input-5-9e9844af3bb5>\u001b[0m in \u001b[0;36mgenerator\u001b[0;34m(X, y, batch_size)\u001b[0m\n\u001b[1;32m      7\u001b[0m             \u001b[0mperm\u001b[0m \u001b[0;34m=\u001b[0m \u001b[0mnp\u001b[0m\u001b[0;34m.\u001b[0m\u001b[0marange\u001b[0m\u001b[0;34m(\u001b[0m\u001b[0mnum_images\u001b[0m\u001b[0;34m)\u001b[0m\u001b[0;34m\u001b[0m\u001b[0m\n\u001b[1;32m      8\u001b[0m             \u001b[0mnp\u001b[0m\u001b[0;34m.\u001b[0m\u001b[0mrandom\u001b[0m\u001b[0;34m.\u001b[0m\u001b[0mshuffle\u001b[0m\u001b[0;34m(\u001b[0m\u001b[0mperm\u001b[0m\u001b[0;34m)\u001b[0m\u001b[0;34m\u001b[0m\u001b[0m\n\u001b[0;32m----> 9\u001b[0;31m             \u001b[0mX\u001b[0m \u001b[0;34m=\u001b[0m \u001b[0mX\u001b[0m\u001b[0;34m[\u001b[0m\u001b[0mperm\u001b[0m\u001b[0;34m]\u001b[0m\u001b[0;34m\u001b[0m\u001b[0m\n\u001b[0m\u001b[1;32m     10\u001b[0m             \u001b[0my\u001b[0m \u001b[0;34m=\u001b[0m \u001b[0my\u001b[0m\u001b[0;34m[\u001b[0m\u001b[0mperm\u001b[0m\u001b[0;34m]\u001b[0m\u001b[0;34m\u001b[0m\u001b[0m\n\u001b[1;32m     11\u001b[0m             \u001b[0mstart\u001b[0m \u001b[0;34m=\u001b[0m \u001b[0;36m0\u001b[0m\u001b[0;34m\u001b[0m\u001b[0m\n",
      "\u001b[0;31mKeyboardInterrupt\u001b[0m: "
     ]
    }
   ],
   "source": [
    "def weight_variable(shape):\n",
    "    initial = tf.truncated_normal(shape, stddev=0.1)\n",
    "    return tf.Variable(initial)\n",
    "\n",
    "def bias_variable(shape):\n",
    "    initial = tf.constant(0.1, shape=shape)\n",
    "    return tf.Variable(initial)\n",
    "\n",
    "def conv2d(x, W):\n",
    "    return tf.nn.conv2d(x, W, strides=[1, 1, 1, 1], padding='SAME')\n",
    "\n",
    "def max_pool_2x2(x):\n",
    "    return tf.nn.max_pool(x, ksize=[1, 2, 2, 1], strides=[1, 2, 2, 1], padding='SAME')\n",
    "\n",
    "x_image = tf.reshape(x, [-1, height_images, width_images, 1])\n",
    "\n",
    "#First Convolutional Layer\n",
    "W_conv1 = weight_variable([5, 5, 1, 32])\n",
    "b_conv1 = bias_variable([32])\n",
    "h_conv1 = tf.nn.relu(conv2d(x_image, W_conv1) + b_conv1)\n",
    "h_pool1 = max_pool_2x2(h_conv1)\n",
    "\n",
    "#Second Convolutional Layer\n",
    "W_conv2 = weight_variable([5, 5, 32, 64])\n",
    "b_conv2 = bias_variable([64])\n",
    "h_conv2 = tf.nn.relu(conv2d(h_pool1, W_conv2) + b_conv2)\n",
    "h_pool2 = max_pool_2x2(h_conv2)\n",
    "\n",
    "#Third Convolutional Layer\n",
    "# W_conv3 = weight_variable([5, 5, 64, 128])\n",
    "# b_conv3 = bias_variable([128])\n",
    "# h_conv3 = tf.nn.relu(conv2d(h_pool1, W_conv2) + b_conv2)\n",
    "# h_pool3 = max_pool_2x2(h_conv2)\n",
    "\n",
    "#First densely Connected Layer\n",
    "W_fc1 = weight_variable([10 * 25 * 64, 1024])\n",
    "b_fc1 = bias_variable([1024])\n",
    "h_pool2_flat = tf.reshape(h_pool2, [-1, 10*25*64])\n",
    "h_fc1 = tf.nn.relu(tf.matmul(h_pool2_flat, W_fc1) + b_fc1)\n",
    "\n",
    "#Dropout\n",
    "keep_prob = tf.placeholder(tf.float32)\n",
    "h_fc1_drop = tf.nn.dropout(h_fc1, keep_prob)\n",
    "\n",
    "#Readout Layer\n",
    "W_fc2 = weight_variable([1024, 144])\n",
    "b_fc2 = bias_variable([144])\n",
    "\n",
    "y_conv = tf.matmul(h_fc1_drop, W_fc2) + b_fc2\n",
    "\n",
    "\n",
    "#cross_entropy_1 = tf.reduce_mean(tf.nn.softmax_cross_entropy_with_logits(y_conv, y_))\n",
    "#分别计算每个char的softmax损失函数，取其平均值作为整体的损失函数\n",
    "cross_entropy = tf.reduce_mean(\n",
    "    tf.concat(0, [tf.nn.softmax_cross_entropy_with_logits(\n",
    "        y_conv[:, num_charmap*i:num_charmap*(i+1)-1], y_[:, num_charmap*i:num_charmap*(i+1)-1]) \n",
    "                  for i in range(num_char) ]))\n",
    "train_step = tf.train.AdamOptimizer(1e-4).minimize(cross_entropy)\n",
    "correct_prediction = tf.cast([tf.equal(tf.argmax(y_conv[:, num_charmap*i:num_charmap*(i+1)-1],1),\n",
    "           tf.argmax(y_[:, num_charmap*i:num_charmap*(i+1)-1],1)) for i in range(num_char)] , tf.float32)\n",
    "accuracy = tf.reduce_mean(tf.reduce_min(correct_prediction, axis=0))\n",
    "sess.run(tf.global_variables_initializer())\n",
    "\n",
    "trainset_ge = generator(X_train, y_train, batch_size=64)\n",
    "num_loop = 10000\n",
    "print(time.ctime() ,\": train cnn begin, amount %d steps\"%num_loop)\n",
    "for i in range(num_loop):\n",
    "    X_batch, y_batch = next(trainset_ge)\n",
    "    if (i+1)/(num_loop/10) == 0:\n",
    "        train_accuracy = accuracy.eval(feed_dict={\n",
    "            x:X_batch, y_: y_batch, keep_prob: 1.0})\n",
    "        print(time.ctime() ,\": step %d, training accuracy %g\"%(i, train_accuracy))\n",
    "    train_step.run(feed_dict={x: X_batch, y_: y_batch, keep_prob: 0.5})\n",
    "\n",
    "print(time.ctime() ,\": test accuracy %g\"%accuracy.eval(feed_dict={\n",
    "    x: X_test, y_: y_test, keep_prob: 1.0}))"
   ]
  },
  {
   "cell_type": "code",
   "execution_count": 10,
   "metadata": {
    "collapsed": false
   },
   "outputs": [
    {
     "name": "stdout",
     "output_type": "stream",
     "text": [
      "Thu Jan  5 14:52:36 2017 : step 0, training accuracy 0\n",
      "Thu Jan  5 14:55:23 2017 : step 100, training accuracy 0\n",
      "Thu Jan  5 14:58:10 2017 : step 200, training accuracy 0\n",
      "Thu Jan  5 15:00:54 2017 : step 300, training accuracy 0\n",
      "Thu Jan  5 15:03:48 2017 : step 400, training accuracy 0\n",
      "Thu Jan  5 15:06:28 2017 : step 500, training accuracy 0\n",
      "Thu Jan  5 15:09:01 2017 : step 600, training accuracy 0\n",
      "Thu Jan  5 15:11:28 2017 : step 700, training accuracy 0\n",
      "Thu Jan  5 15:13:56 2017 : step 800, training accuracy 0\n",
      "Thu Jan  5 15:16:24 2017 : step 900, training accuracy 0\n",
      "Thu Jan  5 15:18:58 2017 : test accuracy 0\n"
     ]
    }
   ],
   "source": [
    "#lost function 1 test\n",
    "train_step = tf.train.AdamOptimizer(1e-4).minimize(cross_entropy_1)\n",
    "sess.run(tf.global_variables_initializer())\n",
    "\n",
    "trainset_ge = generator(X_train, y_train, batch_size=64)\n",
    "X_batch, y_batch = next(trainset_ge)\n",
    "num_loop = 1000\n",
    "for i in range(num_loop):\n",
    "    if (i+1)%(num_loop/10) == 0:\n",
    "        train_accuracy = accuracy.eval(feed_dict={\n",
    "            x:X_batch, y_: y_batch, keep_prob: 1.0})\n",
    "        print(time.ctime() ,\": step %d, training accuracy %g\"%(i, train_accuracy))\n",
    "    train_step.run(feed_dict={x: X_batch, y_: y_batch, keep_prob: 0.5})\n",
    "\n",
    "print(time.ctime() ,\": test accuracy %g\"%accuracy.eval(feed_dict={\n",
    "    x: X_test, y_: y_test, keep_prob: 1.0}))"
   ]
  },
  {
   "cell_type": "code",
   "execution_count": 11,
   "metadata": {
    "collapsed": false
   },
   "outputs": [
    {
     "name": "stdout",
     "output_type": "stream",
     "text": [
      "Thu Jan  5 15:22:57 2017 : step 99, training accuracy 0.125\n",
      "Thu Jan  5 15:25:30 2017 : step 199, training accuracy 0.734375\n",
      "Thu Jan  5 15:27:59 2017 : step 299, training accuracy 0.8125\n",
      "Thu Jan  5 15:30:32 2017 : step 399, training accuracy 0.8125\n",
      "Thu Jan  5 15:33:13 2017 : step 499, training accuracy 0.828125\n",
      "Thu Jan  5 15:35:55 2017 : step 599, training accuracy 0.8125\n",
      "Thu Jan  5 15:38:26 2017 : step 699, training accuracy 0.828125\n",
      "Thu Jan  5 15:41:06 2017 : step 799, training accuracy 0.8125\n",
      "Thu Jan  5 15:43:43 2017 : step 899, training accuracy 0.8125\n",
      "Thu Jan  5 15:46:21 2017 : step 999, training accuracy 0.8125\n",
      "Thu Jan  5 15:46:22 2017 : test accuracy 0\n"
     ]
    }
   ],
   "source": [
    "#lost function 2 test\n",
    "train_step = tf.train.AdamOptimizer(1e-4).minimize(cross_entropy_2)\n",
    "sess.run(tf.global_variables_initializer())\n",
    "\n",
    "trainset_ge = generator(X_train, y_train, batch_size=64)\n",
    "X_batch, y_batch = next(trainset_ge)\n",
    "num_loop = 1000\n",
    "for i in range(num_loop):\n",
    "    if (i+1)%(num_loop/10) == 0:\n",
    "        train_accuracy = accuracy.eval(feed_dict={\n",
    "            x:X_batch, y_: y_batch, keep_prob: 1.0})\n",
    "        print(time.ctime() ,\": step %d, training accuracy %g\"%(i, train_accuracy))\n",
    "    train_step.run(feed_dict={x: X_batch, y_: y_batch, keep_prob: 0.5})\n",
    "\n",
    "print(time.ctime() ,\": test accuracy %g\"%accuracy.eval(feed_dict={\n",
    "    x: X_test, y_: y_test, keep_prob: 1.0}))"
   ]
  },
  {
   "cell_type": "code",
   "execution_count": 71,
   "metadata": {
    "collapsed": false
   },
   "outputs": [
    {
     "data": {
      "text/plain": [
       "['B', '8', 'X', 'K']"
      ]
     },
     "execution_count": 71,
     "metadata": {},
     "output_type": "execute_result"
    }
   ],
   "source": [
    "print([char_map[np.argmax(pred[1,36*i:i*36+35])] for i in range(num_char)])\n",
    "plt.imshow(X_train[1].reshape((40, 100)), cmap='gray')"
   ]
  },
  {
   "cell_type": "code",
   "execution_count": 70,
   "metadata": {
    "collapsed": false
   },
   "outputs": [
    {
     "data": {
      "text/plain": [
       "<matplotlib.image.AxesImage at 0x187029668>"
      ]
     },
     "execution_count": 70,
     "metadata": {},
     "output_type": "execute_result"
    },
    {
     "data": {
      "image/png": "[encoded data removed]",
      "text/plain": [
       "<matplotlib.figure.Figure at 0x1871d0d68>"
      ]
     },
     "metadata": {},
     "output_type": "display_data"
    }
   ],
   "source": [
    "plt.imshow(X_train[1].reshape((40, 100)), cmap='gray')"
   ]
  },
  {
   "cell_type": "code",
   "execution_count": 68,
   "metadata": {
    "collapsed": false
   },
   "outputs": [
    {
     "data": {
      "text/plain": [
       "<matplotlib.image.AxesImage at 0x187cf0e10>"
      ]
     },
     "execution_count": 68,
     "metadata": {},
     "output_type": "execute_result"
    },
    {
     "data": {
      "image/png": "[encoded data removed]",
      "text/plain": [
       "<matplotlib.figure.Figure at 0x1871ef390>"
      ]
     },
     "metadata": {},
     "output_type": "display_data"
    }
   ],
   "source": []
  },
  {
   "cell_type": "code",
   "execution_count": 62,
   "metadata": {
    "collapsed": false
   },
   "outputs": [
    {
     "data": {
      "text/plain": [
       "0.0"
      ]
     },
     "execution_count": 62,
     "metadata": {},
     "output_type": "execute_result"
    }
   ],
   "source": [
    "ac"
   ]
  },
  {
   "cell_type": "code",
   "execution_count": 117,
   "metadata": {
    "collapsed": false
   },
   "outputs": [
    {
     "data": {
      "text/plain": [
       "numpy.ndarray"
      ]
     },
     "execution_count": 117,
     "metadata": {},
     "output_type": "execute_result"
    }
   ],
   "source": [
    "type(y_train)"
   ]
  },
  {
   "cell_type": "code",
   "execution_count": 196,
   "metadata": {
    "collapsed": false
   },
   "outputs": [
    {
     "data": {
      "text/plain": [
       "(40, 100, 3)"
      ]
     },
     "execution_count": 196,
     "metadata": {},
     "output_type": "execute_result"
    }
   ],
   "source": [
    "np.concatenate((img2, img.reshape((40, 100, 1))), axis =2).shape"
   ]
  },
  {
   "cell_type": "code",
   "execution_count": 205,
   "metadata": {
    "collapsed": false
   },
   "outputs": [],
   "source": [
    "X = np.empty((40, 100, 1))"
   ]
  },
  {
   "cell_type": "code",
   "execution_count": 207,
   "metadata": {
    "collapsed": false
   },
   "outputs": [
    {
     "data": {
      "text/plain": [
       "(40, 100, 3)"
      ]
     },
     "execution_count": 207,
     "metadata": {},
     "output_type": "execute_result"
    }
   ],
   "source": [
    "np.concatenate((img2, X), axis =2).shape"
   ]
  },
  {
   "cell_type": "code",
   "execution_count": null,
   "metadata": {
    "collapsed": true
   },
   "outputs": [],
   "source": []
  }
 ],
 "metadata": {
  "anaconda-cloud": {},
  "kernelspec": {
   "display_name": "Python [Root]",
   "language": "python",
   "name": "Python [Root]"
  },
  "language_info": {
   "codemirror_mode": {
    "name": "ipython",
    "version": 3
   },
   "file_extension": ".py",
   "mimetype": "text/x-python",
   "name": "python",
   "nbconvert_exporter": "python",
   "pygments_lexer": "ipython3",
   "version": "3.5.2"
  }
 },
 "nbformat": 4,
 "nbformat_minor": 1
}
